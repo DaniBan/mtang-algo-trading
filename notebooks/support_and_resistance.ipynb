{
 "cells": [
  {
   "metadata": {},
   "cell_type": "markdown",
   "source": [
    "# Support & Resistance Lines Analysis\n",
    "\n",
    "This notebook demonstrates how to compute and visualize support and resistance lines - key technical analysis concepts used in financial markets. Support and resistance levels represent price points where a security has historically had difficulty moving beyond, either on the downside (support) or upside (resistance).\n",
    "\n",
    "The implementation uses:\n",
    "- Peak detection algorithms to identify potential support/resistance levels\n",
    "- Data visualization with Matplotlib and mplfinance\n",
    "\n",
    "The notebook shows how to:\n",
    "1. Load and process financial price data\n",
    "2. Detect support and resistance levels using signal processing\n",
    "3. Visualize the results\n"
   ],
   "id": "97e0464cc9dc197a"
  },
  {
   "metadata": {
    "ExecuteTime": {
     "end_time": "2025-04-19T16:40:29.084260Z",
     "start_time": "2025-04-19T16:40:29.077821Z"
    }
   },
   "cell_type": "code",
   "source": [
    "import os\n",
    "from datetime import datetime\n",
    "from typing import List\n",
    "\n",
    "import MetaTrader5 as mt5\n",
    "import matplotlib.pyplot as plt\n",
    "import mplfinance as mpf\n",
    "import numpy as np\n",
    "import pandas as pd\n",
    "from dotenv import load_dotenv\n",
    "from scipy.signal import find_peaks\n",
    "\n",
    "from src.metatrader import MT5Connection\n",
    "\n",
    "# Load env vars\n",
    "load_dotenv()"
   ],
   "id": "867bb3697d0eeb4a",
   "outputs": [
    {
     "data": {
      "text/plain": [
       "True"
      ]
     },
     "execution_count": 140,
     "metadata": {},
     "output_type": "execute_result"
    }
   ],
   "execution_count": 140
  },
  {
   "metadata": {
    "ExecuteTime": {
     "end_time": "2025-04-19T16:40:30.401004Z",
     "start_time": "2025-04-19T16:40:30.377928Z"
    }
   },
   "cell_type": "code",
   "source": [
    "# Load data\n",
    "symbol = \"USDCAD\"\n",
    "timeframe = mt5.TIMEFRAME_M15\n",
    "with (MT5Connection(int(os.getenv(\"ACCOUNT_ID\")), os.getenv(\"PASSWORD\"), os.getenv(\"MT5_SERVER\")) as mt5_conn):\n",
    "\tdata = mt5_conn.fetch_rates_range(symbol=symbol,\n",
    "\t\t\t\t\t\t\t\t\t  timeframe=timeframe,\n",
    "\t\t\t\t\t\t\t\t\t  date_from=datetime(2025, 4, 1),\n",
    "\t\t\t\t\t\t\t\t\t  date_to=datetime.now())\n",
    "\n",
    "data.head()"
   ],
   "id": "cbb117885872cafc",
   "outputs": [
    {
     "data": {
      "text/plain": [
       "                        Open     High      Low    Close  Volume\n",
       "time                                                           \n",
       "2025-03-31 21:00:00  1.43880  1.43897  1.43804  1.43851    2148\n",
       "2025-03-31 21:15:00  1.43852  1.43860  1.43759  1.43760    1828\n",
       "2025-03-31 21:30:00  1.43760  1.43805  1.43717  1.43742    1879\n",
       "2025-03-31 21:45:00  1.43742  1.43788  1.43728  1.43760    2210\n",
       "2025-03-31 22:00:00  1.43759  1.43801  1.43732  1.43746    2426"
      ],
      "text/html": [
       "<div>\n",
       "<style scoped>\n",
       "    .dataframe tbody tr th:only-of-type {\n",
       "        vertical-align: middle;\n",
       "    }\n",
       "\n",
       "    .dataframe tbody tr th {\n",
       "        vertical-align: top;\n",
       "    }\n",
       "\n",
       "    .dataframe thead th {\n",
       "        text-align: right;\n",
       "    }\n",
       "</style>\n",
       "<table border=\"1\" class=\"dataframe\">\n",
       "  <thead>\n",
       "    <tr style=\"text-align: right;\">\n",
       "      <th></th>\n",
       "      <th>Open</th>\n",
       "      <th>High</th>\n",
       "      <th>Low</th>\n",
       "      <th>Close</th>\n",
       "      <th>Volume</th>\n",
       "    </tr>\n",
       "    <tr>\n",
       "      <th>time</th>\n",
       "      <th></th>\n",
       "      <th></th>\n",
       "      <th></th>\n",
       "      <th></th>\n",
       "      <th></th>\n",
       "    </tr>\n",
       "  </thead>\n",
       "  <tbody>\n",
       "    <tr>\n",
       "      <th>2025-03-31 21:00:00</th>\n",
       "      <td>1.43880</td>\n",
       "      <td>1.43897</td>\n",
       "      <td>1.43804</td>\n",
       "      <td>1.43851</td>\n",
       "      <td>2148</td>\n",
       "    </tr>\n",
       "    <tr>\n",
       "      <th>2025-03-31 21:15:00</th>\n",
       "      <td>1.43852</td>\n",
       "      <td>1.43860</td>\n",
       "      <td>1.43759</td>\n",
       "      <td>1.43760</td>\n",
       "      <td>1828</td>\n",
       "    </tr>\n",
       "    <tr>\n",
       "      <th>2025-03-31 21:30:00</th>\n",
       "      <td>1.43760</td>\n",
       "      <td>1.43805</td>\n",
       "      <td>1.43717</td>\n",
       "      <td>1.43742</td>\n",
       "      <td>1879</td>\n",
       "    </tr>\n",
       "    <tr>\n",
       "      <th>2025-03-31 21:45:00</th>\n",
       "      <td>1.43742</td>\n",
       "      <td>1.43788</td>\n",
       "      <td>1.43728</td>\n",
       "      <td>1.43760</td>\n",
       "      <td>2210</td>\n",
       "    </tr>\n",
       "    <tr>\n",
       "      <th>2025-03-31 22:00:00</th>\n",
       "      <td>1.43759</td>\n",
       "      <td>1.43801</td>\n",
       "      <td>1.43732</td>\n",
       "      <td>1.43746</td>\n",
       "      <td>2426</td>\n",
       "    </tr>\n",
       "  </tbody>\n",
       "</table>\n",
       "</div>"
      ]
     },
     "execution_count": 141,
     "metadata": {},
     "output_type": "execute_result"
    }
   ],
   "execution_count": 141
  },
  {
   "metadata": {
    "ExecuteTime": {
     "end_time": "2025-04-19T16:40:37.558642Z",
     "start_time": "2025-04-19T16:40:37.554304Z"
    }
   },
   "cell_type": "code",
   "source": [
    "def compute_levels(rates: pd.DataFrame, window: int = 100, prominence: float = 0.002) -> tuple[List, List]:\n",
    "\t\"\"\"Computes support and resistance levels for a given financial time-series \n",
    "\tdataframe. The computation is based on identified peaks in the \"High\" \n",
    "\tand \"Low\" columns over a specified window and prominence level.\n",
    "\n",
    "\tArgs:\n",
    "\t    rates (pd.DataFrame): A DataFrame containing financial time-series data.\n",
    "\t        It must include at least the \"Low\", \"High\", and \"Close\" columns.\n",
    "\t    window (int): The minimum distance between peaks to be considered \n",
    "\t        significant. Defaults to 100.\n",
    "\t    prominence (float): The required prominence of the peaks to be \n",
    "\t        used in calculating levels or, in other words, how much a peak stands \n",
    "\t        out relative to its surrounding peaks. Defaults to 0.002.\n",
    "\n",
    "\tReturns:\n",
    "\t    tuple[List, List]: A tuple containing:\n",
    "\t        - support_lines (List): A list of arrays representing horizontal \n",
    "\t            support lines based on peaks in the \"Low\" column.\n",
    "\t        - resistance_lines (List): A list of arrays representing horizontal \n",
    "\t            resistance lines based on peaks in the \"High\" column.\n",
    "\t\"\"\"\n",
    "\tpeaks, _ = find_peaks(-rates[\"Low\"], distance=window, prominence=prominence)\n",
    "\tpeaks_values = rates.iloc[peaks][\"Close\"]\n",
    "\tsupport_lines = [np.full(len(rates), val) for val in peaks_values]\n",
    "\n",
    "\tpeaks, _ = find_peaks(rates[\"High\"], distance=window, prominence=prominence)\n",
    "\tpeaks_values = rates.iloc[peaks][\"Close\"]\n",
    "\tresistance_lines = [np.full(len(rates), val) for val in peaks_values]\n",
    "\n",
    "\treturn support_lines, resistance_lines"
   ],
   "id": "b4034601181592bc",
   "outputs": [],
   "execution_count": 142
  },
  {
   "metadata": {
    "ExecuteTime": {
     "end_time": "2025-04-19T16:42:59.734609Z",
     "start_time": "2025-04-19T16:42:59.724641Z"
    }
   },
   "cell_type": "code",
   "source": [
    "# Functions visualize support and resistance levels\n",
    "def plot_data_simple(rates: pd.DataFrame, support_lines: list, resistance_lines: list, depth: int = None):\n",
    "\tif depth is None:\n",
    "\t\tdepth = len(rates)\n",
    "\n",
    "\tif depth > len(rates):\n",
    "\t\traise ValueError(\"Depth is bigger than the size of the data.\")\n",
    "\n",
    "\tmin_price = min(rates[-depth:][\"Close\"])\n",
    "\tmax_price = max(rates[-depth:][\"Close\"])\n",
    "\n",
    "\ttime_axis = rates.index.tolist()\n",
    "\n",
    "\tplt.figure(figsize=(12, 6))\n",
    "\tplt.plot(time_axis[-depth:], rates[-depth:][\"Close\"], label=\"Close Price\", color=\"blue\")\n",
    "\n",
    "\tif resistance_lines:\n",
    "\t\t[plt.plot(time_axis[-depth:], resistance[-depth:], color=\"red\", linestyle=\"--\") for resistance in\n",
    "\t\t resistance_lines if min_price <= resistance[0] <= max_price]\n",
    "\tif support_lines:\n",
    "\t\t[plt.plot(time_axis[-depth:], support[-depth:], color=\"green\", linestyle=\"--\") for support in support_lines if\n",
    "\t\t min_price <= support[0] <= max_price]\n",
    "\n",
    "\tplt.xlabel(\"time\")\n",
    "\tplt.ylabel(\"Price\")\n",
    "\tplt.legend()\n",
    "\tplt.grid()\n",
    "\tplt.show()\n",
    "\n",
    "\n",
    "def plot_data_with_candles(rates: pd.DataFrame, support_lines: list, resistance_lines: list, depth: int = None):\n",
    "\tif depth is None:\n",
    "\t\tdepth = len(rates)\n",
    "\n",
    "\tmin_price = min(rates[-depth:][\"Close\"])\n",
    "\tmax_price = max(rates[-depth:][\"Close\"])\n",
    "\n",
    "\tsuport_levels = [line[0] for line in support_lines if min_price <= line[0] <= max_price]\n",
    "\tresistance_levels = [line[0] for line in resistance_lines if min_price <= line[0] <= max_price]\n",
    "\n",
    "\tcolors = [\"g\"] * len(suport_levels)\n",
    "\tcolors.extend([\"r\"] * len(resistance_levels))\n",
    "\n",
    "\t# Prepare lines\n",
    "\thlines = dict(\n",
    "\t\thlines=suport_levels + resistance_levels,\n",
    "\t\tcolors=colors,\n",
    "\t\tlinestyle=\"--\",\n",
    "\t\talpha=0.5\n",
    "\t)\n",
    "\n",
    "\tplot_data = rates[-depth:].copy()\n",
    "\tplot_data.columns = [col.title() for col in plot_data.columns]  # Capitalize column names\n",
    "\n",
    "\tmc = mpf.make_marketcolors(\n",
    "\t\tup=\"green\",\n",
    "\t\tdown=\"red\",\n",
    "\t\tedge=\"inherit\",\n",
    "\t\twick=\"inherit\",\n",
    "\t\tvolume=\"in\"\n",
    "\t)\n",
    "\ts = mpf.make_mpf_style(marketcolors=mc)\n",
    "\n",
    "\tmpf.plot(\n",
    "\t\tplot_data,\n",
    "\t\ttype=\"candle\",\n",
    "\t\tstyle=s,\n",
    "\t\ttitle=\"Price with Support & Resistance Levels\",\n",
    "\t\thlines=hlines,\n",
    "\t\tfigsize=(16, 9),\n",
    "\t\tvolume=True\n",
    "\t)"
   ],
   "id": "a33d0a9b56d02424",
   "outputs": [],
   "execution_count": 146
  },
  {
   "metadata": {
    "ExecuteTime": {
     "end_time": "2025-04-19T16:43:00.162975Z",
     "start_time": "2025-04-19T16:42:59.969572Z"
    }
   },
   "cell_type": "code",
   "source": [
    "_support_lines, _resistance_lines = compute_levels(data, window=100, prominence=0.001)\n",
    "plot_data_with_candles(rates=data, support_lines=_support_lines, resistance_lines=_resistance_lines, depth=100)"
   ],
   "id": "97244b668fee5448",
   "outputs": [
    {
     "data": {
      "text/plain": [
       "<Figure size 1600x900 with 4 Axes>"
      ],
      "image/png": "[encoded data removed]"
     },
     "metadata": {},
     "output_type": "display_data"
    }
   ],
   "execution_count": 147
  },
  {
   "metadata": {},
   "cell_type": "code",
   "outputs": [],
   "execution_count": null,
   "source": "",
   "id": "e797ee53b26008d4"
  }
 ],
 "metadata": {
  "kernelspec": {
   "display_name": "Python 3",
   "language": "python",
   "name": "python3"
  },
  "language_info": {
   "codemirror_mode": {
    "name": "ipython",
    "version": 2
   },
   "file_extension": ".py",
   "mimetype": "text/x-python",
   "name": "python",
   "nbconvert_exporter": "python",
   "pygments_lexer": "ipython2",
   "version": "2.7.6"
  }
 },
 "nbformat": 4,
 "nbformat_minor": 5
}
